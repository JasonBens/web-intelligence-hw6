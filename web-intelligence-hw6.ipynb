{
 "metadata": {
  "name": "",
  "signature": "sha256:a21f87491197e17a093e106bead257f93cafb6c9896541ae99bd5936ce890530"
 },
 "nbformat": 3,
 "nbformat_minor": 0,
 "worksheets": [
  {
   "cells": [
    {
     "cell_type": "code",
     "collapsed": false,
     "input": [
      "import sqlite3"
     ],
     "language": "python",
     "metadata": {},
     "outputs": [],
     "prompt_number": 11
    },
    {
     "cell_type": "code",
     "collapsed": false,
     "input": [
      "conn = sqlite3.connect('web-intelligence-hw6.db')\n",
      "c = conn.cursor()"
     ],
     "language": "python",
     "metadata": {},
     "outputs": [],
     "prompt_number": 12
    },
    {
     "cell_type": "code",
     "collapsed": false,
     "input": [
      "# test queries\n",
      "# p(a)\n",
      "c.execute('SELECT a, p FROM [p(a)]')\n",
      "print c.fetchall()"
     ],
     "language": "python",
     "metadata": {},
     "outputs": [
      {
       "output_type": "stream",
       "stream": "stdout",
       "text": [
        "[(1, 0.01), (0, 99.0)]\n"
       ]
      }
     ],
     "prompt_number": 13
    },
    {
     "cell_type": "code",
     "collapsed": false,
     "input": [
      "# p(t|a=1)\n",
      "c.execute('SELECT t, p FROM [p(t|a)] WHERE a=1')\n",
      "print c.fetchall()"
     ],
     "language": "python",
     "metadata": {},
     "outputs": [
      {
       "output_type": "stream",
       "stream": "stdout",
       "text": [
        "[(1, 0.05), (0, 0.95)]\n"
       ]
      }
     ],
     "prompt_number": 14
    },
    {
     "cell_type": "code",
     "collapsed": false,
     "input": [
      "# p(e|a=1, t=1, x=1)\n",
      "# Need to check manually\n",
      "c.execute('SELECT pe.e, sum(px.p*pe.p*pt.p*pa.p) '+\n",
      "          'FROM [p(x|e)] AS px, [p(e|l,t)] AS pe, '+\n",
      "          '[p(t|a)] AS pt, [p(a)] AS pa '+\n",
      "          'WHERE pa.a=1 AND pt.a=pa.a AND pt.t=1 '+\n",
      "          'AND pe.t=pt.t AND px.x=1')\n",
      "print c.fetchall()"
     ],
     "language": "python",
     "metadata": {},
     "outputs": [
      {
       "output_type": "stream",
       "stream": "stdout",
       "text": [
        "[(0, 0.00103)]\n"
       ]
      }
     ],
     "prompt_number": 34
    },
    {
     "cell_type": "code",
     "collapsed": false,
     "input": [
      "conn.close()"
     ],
     "language": "python",
     "metadata": {},
     "outputs": []
    }
   ],
   "metadata": {}
  }
 ]
}