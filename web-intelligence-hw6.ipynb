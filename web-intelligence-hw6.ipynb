{
 "metadata": {
  "name": "",
  "signature": "sha256:a33d2a80f65f973b9217ff63a9bf8fff7d744c113154b4b77c107d89cb531287"
 },
 "nbformat": 3,
 "nbformat_minor": 0,
 "worksheets": [
  {
   "cells": [
    {
     "cell_type": "code",
     "collapsed": false,
     "input": [
      "import sqlite3"
     ],
     "language": "python",
     "metadata": {},
     "outputs": [],
     "prompt_number": 1
    },
    {
     "cell_type": "code",
     "collapsed": false,
     "input": [
      "conn = sqlite3.connect('web-intelligence-hw6.db')\n",
      "c = conn.cursor()"
     ],
     "language": "python",
     "metadata": {},
     "outputs": [],
     "prompt_number": 99
    },
    {
     "cell_type": "code",
     "collapsed": false,
     "input": [
      "# test queries\n",
      "# p(a)\n",
      "# p(t|a)\n",
      "c.execute('SELECT a, p FROM [p(a)]')\n",
      "print c.fetchall()\n",
      "c.execute('SELECT t, a, p from [p(t|a)]')\n",
      "c.fetchall()"
     ],
     "language": "python",
     "metadata": {},
     "outputs": [
      {
       "output_type": "stream",
       "stream": "stdout",
       "text": [
        "[(1, 0.01), (0, 0.99)]\n"
       ]
      },
      {
       "metadata": {},
       "output_type": "pyout",
       "prompt_number": 131,
       "text": [
        "[(1, 1, 0.05), (0, 1, 0.95), (1, 0, 0.01), (0, 0, 0.99)]"
       ]
      }
     ],
     "prompt_number": 131
    },
    {
     "cell_type": "code",
     "collapsed": false,
     "input": [
      "# p(t|a=1)\n",
      "c.execute('SELECT t, p FROM [p(t|a)] WHERE a=1')\n",
      "print c.fetchall()"
     ],
     "language": "python",
     "metadata": {},
     "outputs": [
      {
       "output_type": "stream",
       "stream": "stdout",
       "text": [
        "[(1, 0.05), (0, 0.95)]\n"
       ]
      }
     ],
     "prompt_number": 101
    },
    {
     "cell_type": "code",
     "collapsed": false,
     "input": [
      "# p(t|a=1)\n",
      "c.execute('SELECT pt.t, pt.p*pa.p '+\n",
      "          'FROM [p(t|a)] AS pt, [p(a)] AS pa '+\n",
      "          'WHERE pa.a=1 AND pt.a=1')\n",
      "print c.fetchall()\n",
      "# Should be [(1, 0.0005), (0, 0.0095)]"
     ],
     "language": "python",
     "metadata": {},
     "outputs": [
      {
       "output_type": "stream",
       "stream": "stdout",
       "text": [
        "[(1, 0.0005), (0, 0.0095)]\n"
       ]
      }
     ],
     "prompt_number": 122
    },
    {
     "cell_type": "code",
     "collapsed": false,
     "input": [
      "# p(t)\n",
      "c.execute('SELECT pt.t, sum(pt.p*pa.p) '+\n",
      "          'FROM [p(t|a)] as pt, [p(a)] as pa '+\n",
      "          'WHERE pt.a=pa.a GROUP BY pt.t')\n",
      "print c.fetchall()\n",
      "# Should be [(0, 0.09896), (1, 0.0104)]"
     ],
     "language": "python",
     "metadata": {},
     "outputs": [
      {
       "output_type": "stream",
       "stream": "stdout",
       "text": [
        "[(0, 0.9895999999999999), (1, 0.010400000000000001)]\n"
       ]
      }
     ],
     "prompt_number": 147
    },
    {
     "cell_type": "code",
     "collapsed": false,
     "input": [
      "# p(e|l=1, t=1)\n",
      "c.execute('SELECT pe.e, pe.l, pe.t, sum(pl.p*ps.p)*sum(pt.p*pa.p)*pe.p '+\n",
      "          'FROM [p(e|l,t)] as pe, [p(l|s)] as pl, [p(s)] as ps, '+\n",
      "          '[p(t|a)] as pt, [p(a)] as pa '+\n",
      "          'WHERE pt.a = pa.a AND pl.s = ps.s '+\n",
      "          'AND pe.t = pt.t AND pe.l = pl.l GROUP BY pe.e, pe.l, pe.t')\n",
      "print c.fetchall()"
     ],
     "language": "python",
     "metadata": {},
     "outputs": [
      {
       "output_type": "stream",
       "stream": "stdout",
       "text": [
        "[(0, 0, 0, 3.740688), (0, 0, 1, 0.0), (0, 1, 0, 0.0), (0, 1, 1, 0.0), (1, 0, 0, 0.0), (1, 0, 1, 0.03931200000000001), (1, 1, 0, 0.21771200000000002), (1, 1, 1, 0.0022880000000000005)]\n"
       ]
      }
     ],
     "prompt_number": 162
    },
    {
     "cell_type": "code",
     "collapsed": false,
     "input": [
      "conn.close()"
     ],
     "language": "python",
     "metadata": {},
     "outputs": [],
     "prompt_number": 163
    },
    {
     "cell_type": "code",
     "collapsed": false,
     "input": [],
     "language": "python",
     "metadata": {},
     "outputs": []
    }
   ],
   "metadata": {}
  }
 ]
}